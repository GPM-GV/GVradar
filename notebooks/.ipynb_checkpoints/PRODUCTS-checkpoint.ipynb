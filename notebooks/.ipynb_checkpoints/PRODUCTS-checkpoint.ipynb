{
 "cells": [
  {
   "cell_type": "code",
   "execution_count": null,
   "id": "b518d5c3",
   "metadata": {},
   "outputs": [],
   "source": [
    "from gvradar import GVradar\n",
    "import requests\n",
    "import os\n",
    "\n",
    "# Read in file\n",
    "response = requests.get('https://pmm-gv.gsfc.nasa.gov/pub/NPOL/temp/GVradar/cf/NPOL_2022_1127_195529_PPI.cf.gz')\n",
    "open(\"./NPOL_2022_1127_195529_PPI.cf.gz\", \"wb\").write(response.content)\n",
    "\n",
    "file = \"./NPOL_2022_1127_195529_PPI.cf.gz\"\n",
    "\n",
    "kwargs_product = get_kwargs()\n",
    "\n",
    "radar = []\n",
    "#file = 'QC_radar'\n",
    "d = GVradar.DP_products(file, radar, **kwargs_product)\n",
    "d.run_DP_products()\n",
    "\n",
    "os.remove(file)"
   ]
  },
  {
   "cell_type": "code",
   "execution_count": null,
   "id": "8c8467f9",
   "metadata": {},
   "outputs": [],
   "source": [
    "def get_kwargs():\n",
    "    \n",
    "    kwargs_product = {}\n",
    "    \n",
    "    # Select if you want to output a cf file and what fields to write\n",
    "    kwargs_product.update({'output_cf': True, 'cf_dir': './cf/',\n",
    "                           'output_fields': ['DZ', 'CZ', 'VR', 'DR', 'KD',\n",
    "                                             'PH', 'RH', 'SD', 'FS', 'FW',\n",
    "                                             'RC', 'DM', 'NW', 'SQ']})\n",
    "    kwargs_product.update({'output_grid': False, 'grid_dir': './grid/',\n",
    "                           'output_fields': ['DZ', 'CZ', 'VR', 'DR', 'KD',\n",
    "                                             'PH', 'RH', 'SD', 'FS',\n",
    "                                             'RC', 'DM', 'NW']})\n",
    "\n",
    "    # Select which products to produce.\n",
    "    kwargs_product.update({'do_HID_summer': True,\n",
    "                           'do_HID_winter': False,\n",
    "                           'do_mass': True,\n",
    "                           'do_RC': True,\n",
    "                           'do_tokay_DSD': True,\n",
    "                           'dsd_loc': 'wff'})\n",
    "\n",
    "    # Select plots ranges, type, and fields\n",
    "    kwargs_product.update({'plot_images': True, 'plot_single': True, 'plot_multi': False,\n",
    "                           'max_range': 150, 'max_height': 14, 'sweeps_to_plot': [0],\n",
    "                           'fields_to_plot': ['DZ', 'CZ', 'VR', 'DR', 'KD',\n",
    "                                             'PHFS',\n",
    "                                             'RC', 'DM', 'NW'],\n",
    "                           'plot_dir': './plots/', 'add_logos': True})\n",
    "\n",
    "    # A Sounding is needed for DP products, sounding type can be; uwy, ruc, ruc_archive)\n",
    "    kwargs_product.update({'use_sounding': True, 'sounding_type': 'ruc_archive',\n",
    "                           'sounding_dir': '/Users/jpippitt/sounding/'})\n",
    "\n",
    "    return kwargs_product\n",
    "    \n",
    "    "
   ]
  }
 ],
 "metadata": {
  "kernelspec": {
   "display_name": "Python 3 (ipykernel)",
   "language": "python",
   "name": "python3"
  },
  "language_info": {
   "codemirror_mode": {
    "name": "ipython",
    "version": 3
   },
   "file_extension": ".py",
   "mimetype": "text/x-python",
   "name": "python",
   "nbconvert_exporter": "python",
   "pygments_lexer": "ipython3",
   "version": "3.9.13"
  }
 },
 "nbformat": 4,
 "nbformat_minor": 5
}
